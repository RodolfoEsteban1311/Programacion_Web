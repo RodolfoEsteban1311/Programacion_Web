{
  "nbformat": 4,
  "nbformat_minor": 0,
  "metadata": {
    "colab": {
      "provenance": [],
      "authorship_tag": "ABX9TyMhg2TepczZEiqBa7IZYfM1",
      "include_colab_link": true
    },
    "kernelspec": {
      "name": "python3",
      "display_name": "Python 3"
    },
    "language_info": {
      "name": "python"
    }
  },
  "cells": [
    {
      "cell_type": "markdown",
      "metadata": {
        "id": "view-in-github",
        "colab_type": "text"
      },
      "source": [
        "<a href=\"https://colab.research.google.com/github/RodolfoEsteban1311/Programacion_Web/blob/main/Conversor_divisas_v1.ipynb\" target=\"_parent\"><img src=\"https://colab.research.google.com/assets/colab-badge.svg\" alt=\"Open In Colab\"/></a>"
      ]
    },
    {
      "cell_type": "code",
      "execution_count": 1,
      "metadata": {
        "colab": {
          "base_uri": "https://localhost:8080/"
        },
        "id": "JE3CktUV5vy2",
        "outputId": "10225069-921e-4002-ae78-3d172cd606ef"
      },
      "outputs": [
        {
          "output_type": "stream",
          "name": "stdout",
          "text": [
            "Ingrese la cantidad: 3\n",
            "Ingrese la tasa de cambio: 20.00\n",
            "1. Pesos a Dólares\n",
            "2. Dólares a Pesos\n",
            "Seleccione la opción (1 o 2): 2\n",
            "3.0 dólares son 60.0 pesos.\n"
          ]
        }
      ],
      "source": [
        "def convertir_pesos_a_dolares(cantidad_pesos, tasa_cambio):\n",
        "    dolares = cantidad_pesos / tasa_cambio\n",
        "    return dolares\n",
        "\n",
        "def convertir_dolares_a_pesos(cantidad_dolares, tasa_cambio):\n",
        "    pesos = cantidad_dolares * tasa_cambio\n",
        "    return pesos\n",
        "\n",
        "def main():\n",
        "    # Obtener la cantidad y la tasa de cambio desde el usuario\n",
        "    cantidad = float(input(\"Ingrese la cantidad: \"))\n",
        "    tasa_cambio = float(input(\"Ingrese la tasa de cambio: \"))\n",
        "\n",
        "    # Menú de conversión\n",
        "    print(\"1. Pesos a Dólares\")\n",
        "    print(\"2. Dólares a Pesos\")\n",
        "    opcion = int(input(\"Seleccione la opción (1 o 2): \"))\n",
        "\n",
        "    if opcion == 1:\n",
        "        resultado = convertir_pesos_a_dolares(cantidad, tasa_cambio)\n",
        "        print(f\"{cantidad} pesos son {resultado} dólares.\")\n",
        "    elif opcion == 2:\n",
        "        resultado = convertir_dolares_a_pesos(cantidad, tasa_cambio)\n",
        "        print(f\"{cantidad} dólares son {resultado} pesos.\")\n",
        "    else:\n",
        "        print(\"Opción no válida. Por favor, seleccione 1 o 2.\")\n",
        "\n",
        "if __name__ == \"__main__\":\n",
        "    main()"
      ]
    }
  ]
}